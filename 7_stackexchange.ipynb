{
  "nbformat": 4,
  "nbformat_minor": 0,
  "metadata": {
    "colab": {
      "provenance": [],
      "authorship_tag": "ABX9TyNEKJY7KoPxCbh8yfcU7460",
      "include_colab_link": true
    },
    "kernelspec": {
      "name": "python3",
      "display_name": "Python 3"
    },
    "language_info": {
      "name": "python"
    }
  },
  "cells": [
    {
      "cell_type": "markdown",
      "metadata": {
        "id": "view-in-github",
        "colab_type": "text"
      },
      "source": [
        "<a href=\"https://colab.research.google.com/github/lillanieder/data-projects/blob/main/7_stackexchange.ipynb\" target=\"_parent\"><img src=\"https://colab.research.google.com/assets/colab-badge.svg\" alt=\"Open In Colab\"/></a>"
      ]
    },
    {
      "cell_type": "markdown",
      "source": [
        "https://www.youtube.com/watch?v=qbLc5a9jdXo"
      ],
      "metadata": {
        "id": "W7-upMYL5kjE"
      }
    },
    {
      "cell_type": "code",
      "execution_count": 1,
      "metadata": {
        "id": "W2ntSni65dQk"
      },
      "outputs": [],
      "source": [
        "import requests\n",
        "import json"
      ]
    },
    {
      "cell_type": "code",
      "source": [
        "response = requests.get(\"http://api.stackexchange.com/2.2/questions?order=desc&sort=activity&site=stackoverflow\")"
      ],
      "metadata": {
        "id": "_mQRSRzW5pnU"
      },
      "execution_count": 2,
      "outputs": []
    },
    {
      "cell_type": "code",
      "source": [
        "for data in response.json()['items']:\n",
        "  if data['answer_count'] == 0:\n",
        "    print(data['title'])\n",
        "    print(data['link'])\n",
        "\n",
        "  print()"
      ],
      "metadata": {
        "id": "jGE3mfws5qeR",
        "colab": {
          "base_uri": "https://localhost:8080/"
        },
        "outputId": "41bdb5ee-6e5a-47b4-fb02-086bd1fb8344"
      },
      "execution_count": 3,
      "outputs": [
        {
          "output_type": "stream",
          "name": "stdout",
          "text": [
            "OS Error Permission denied errno = 13 error\n",
            "https://stackoverflow.com/questions/75498995/os-error-permission-denied-errno-13-error\n",
            "\n",
            "How action creator which is a thunk receives a store&#39;s dispatch method?\n",
            "https://stackoverflow.com/questions/75499040/how-action-creator-which-is-a-thunk-receives-a-stores-dispatch-method\n",
            "\n",
            "How can I correct my output to what is intended?\n",
            "https://stackoverflow.com/questions/75498986/how-can-i-correct-my-output-to-what-is-intended\n",
            "\n",
            "\n",
            "Can&#39;t configurate docker in JetBrains IDE\n",
            "https://stackoverflow.com/questions/75499039/cant-configurate-docker-in-jetbrains-ide\n",
            "\n",
            "\n",
            "\n",
            "Why Mysql does not find records that exists. It is about Lat&amp;Lng database search\n",
            "https://stackoverflow.com/questions/75499037/why-mysql-does-not-find-records-that-exists-it-is-about-latlng-database-search\n",
            "\n",
            "\n",
            "Problem using https://www.googleapis.com/auth/photoslibrary.readonly with the OAuth 2.0 Playground\n",
            "https://stackoverflow.com/questions/75499035/problem-using-https-www-googleapis-com-auth-photoslibrary-readonly-with-the-oa\n",
            "\n",
            "\n",
            "\n",
            "\n",
            "\n",
            "Get the battery voltage of Logitech Lightspeed device with IOKit?\n",
            "https://stackoverflow.com/questions/75499032/get-the-battery-voltage-of-logitech-lightspeed-device-with-iokit\n",
            "\n",
            "\n",
            "CoroutineScope and GlobalScope differences in terms of lifecycle\n",
            "https://stackoverflow.com/questions/75499030/coroutinescope-and-globalscope-differences-in-terms-of-lifecycle\n",
            "\n",
            "\n",
            "\n",
            "HealthKit Fetch Workout Time, Distance, Avg Heart Rate\n",
            "https://stackoverflow.com/questions/75499029/healthkit-fetch-workout-time-distance-avg-heart-rate\n",
            "\n",
            "A way to edit pbxproj without Xcode resolving package graph?\n",
            "https://stackoverflow.com/questions/75499028/a-way-to-edit-pbxproj-without-xcode-resolving-package-graph\n",
            "\n",
            "\n",
            "How can I use OCX in console without System.Windows.Forms?\n",
            "https://stackoverflow.com/questions/75498827/how-can-i-use-ocx-in-console-without-system-windows-forms\n",
            "\n",
            "\n",
            "\n",
            "How do I show the variables in the side bar instead of in the editor when debugging c++ with vscode?\n",
            "https://stackoverflow.com/questions/75497805/how-do-i-show-the-variables-in-the-side-bar-instead-of-in-the-editor-when-debugg\n",
            "\n",
            "\n",
            "\n",
            "\n",
            "NIF to FBX converter Python\n",
            "https://stackoverflow.com/questions/75499023/nif-to-fbx-converter-python\n",
            "\n"
          ]
        }
      ]
    },
    {
      "cell_type": "code",
      "source": [],
      "metadata": {
        "id": "UbZBUqzd5qai"
      },
      "execution_count": 3,
      "outputs": []
    }
  ]
}