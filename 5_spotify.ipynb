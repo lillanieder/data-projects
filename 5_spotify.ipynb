{
  "nbformat": 4,
  "nbformat_minor": 0,
  "metadata": {
    "colab": {
      "provenance": [],
      "authorship_tag": "ABX9TyOJqBKBghayIrK6CNHfUp42",
      "include_colab_link": true
    },
    "kernelspec": {
      "name": "python3",
      "display_name": "Python 3"
    },
    "language_info": {
      "name": "python"
    }
  },
  "cells": [
    {
      "cell_type": "markdown",
      "metadata": {
        "id": "view-in-github",
        "colab_type": "text"
      },
      "source": [
        "<a href=\"https://colab.research.google.com/github/lillanieder/data-projects/blob/main/5_spotify.ipynb\" target=\"_parent\"><img src=\"https://colab.research.google.com/assets/colab-badge.svg\" alt=\"Open In Colab\"/></a>"
      ]
    },
    {
      "cell_type": "markdown",
      "source": [
        "https://blog.devgenius.io/spotify-data-analysis-with-python-a727542beaa7\n",
        "\n",
        "https://medium.com/analytics-vidhya/visualizing-spotify-podcast-data-6dce49ca9a43"
      ],
      "metadata": {
        "id": "TV_fCjopSjmh"
      }
    },
    {
      "cell_type": "code",
      "source": [
        "!pip install spotipy"
      ],
      "metadata": {
        "id": "3Pbb1pgCSnor"
      },
      "execution_count": null,
      "outputs": []
    },
    {
      "cell_type": "code",
      "source": [
        "CLIENT_ID = \"\"\n",
        "CLIENT_SECRET = \"\""
      ],
      "metadata": {
        "id": "Xv9VwHvxS2ql"
      },
      "execution_count": 20,
      "outputs": []
    },
    {
      "cell_type": "code",
      "source": [
        "import spotipy\n",
        "from spotipy.oauth2 import SpotifyClientCredentials\n",
        "client_credentials_manager = SpotifyClientCredentials(client_id=CLIENT_ID, client_secret=CLIENT_SECRET)\n",
        "sp = spotipy.Spotify(client_credentials_manager=client_credentials_manager)"
      ],
      "metadata": {
        "id": "upI61GLfSnyu"
      },
      "execution_count": null,
      "outputs": []
    },
    {
      "cell_type": "code",
      "source": [
        "artist_name = []\n",
        "track_name = []\n",
        "track_popularity = []\n",
        "artist_id = []\n",
        "track_id = []\n",
        "for i in range(0,1000,50):\n",
        "    track_results = sp.search(q='year:2021', type='track', limit=50,offset=i)\n",
        "    for i, t in enumerate(track_results['tracks']['items']):\n",
        "        artist_name.append(t['artists'][0]['name'])\n",
        "        artist_id.append(t['artists'][0]['id'])\n",
        "        track_name.append(t['name'])\n",
        "        track_id.append(t['id'])\n",
        "        track_popularity.append(t['popularity'])"
      ],
      "metadata": {
        "id": "a7GEQbV1TGHZ"
      },
      "execution_count": null,
      "outputs": []
    },
    {
      "cell_type": "code",
      "source": [
        "import pandas as pd\n",
        "track_df = pd.DataFrame({'artist_name' : artist_name, 'track_name' : track_name, 'track_id' : track_id, 'track_popularity' : track_popularity, 'artist_id' : artist_id})\n",
        "print(track_df.shape)\n",
        "track_df.head()"
      ],
      "metadata": {
        "id": "harhSbghTQLK"
      },
      "execution_count": null,
      "outputs": []
    },
    {
      "cell_type": "markdown",
      "source": [
        "Podcasts"
      ],
      "metadata": {
        "id": "ieyRnaFlUxbm"
      }
    },
    {
      "cell_type": "code",
      "source": [
        "for i in range(0,1000,50):\n",
        "    track_results = sp.search(q='mental health', type='show', market=\"US\", limit=50,offset=i)\n",
        "    print(track_results)"
      ],
      "metadata": {
        "id": "DyLQL-vSTTtY"
      },
      "execution_count": null,
      "outputs": []
    },
    {
      "cell_type": "code",
      "source": [],
      "metadata": {
        "id": "h9yBz4bLU4d9"
      },
      "execution_count": null,
      "outputs": []
    }
  ]
}