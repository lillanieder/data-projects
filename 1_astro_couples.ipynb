{
  "nbformat": 4,
  "nbformat_minor": 0,
  "metadata": {
    "colab": {
      "provenance": [],
      "authorship_tag": "ABX9TyO+UYsFMKyp+unaQEJQKWFL",
      "include_colab_link": true
    },
    "kernelspec": {
      "name": "python3",
      "display_name": "Python 3"
    },
    "language_info": {
      "name": "python"
    }
  },
  "cells": [
    {
      "cell_type": "markdown",
      "metadata": {
        "id": "view-in-github",
        "colab_type": "text"
      },
      "source": [
        "<a href=\"https://colab.research.google.com/github/lillanieder/data-projects/blob/main/1_astro_couples.ipynb\" target=\"_parent\"><img src=\"https://colab.research.google.com/assets/colab-badge.svg\" alt=\"Open In Colab\"/></a>"
      ]
    },
    {
      "cell_type": "markdown",
      "source": [
        "https://www.youtube.com/watch?v=IsMvPcQzncU"
      ],
      "metadata": {
        "id": "bBkKwjpvsLB1"
      }
    },
    {
      "cell_type": "code",
      "source": [
        "import requests\n",
        "from bs4 import BeautifulSoup"
      ],
      "metadata": {
        "id": "LJ5KmjT_sMsZ"
      },
      "execution_count": 1,
      "outputs": []
    },
    {
      "cell_type": "code",
      "source": [
        "base_url = \"https://en.wikipedia.org/wiki/\"\n",
        "famous_person = \"Brad Pitt\"\n",
        "famous = famous_person.split()\n",
        "famous_person_url = famous[0] + '_' + famous[1]\n",
        "final_url = base_url + famous_person_url\n",
        "\n",
        "source_code = requests.get(final_url)\n",
        "plain_text = source_code.text\n",
        "\n",
        "soup = BeautifulSoup(plain_text)"
      ],
      "metadata": {
        "id": "qv4KjyW-XDtT"
      },
      "execution_count": 2,
      "outputs": []
    },
    {
      "cell_type": "code",
      "source": [
        "birthday = soup.find('span', {\"class\":\"bday\"}).string\n",
        "print(birthday)"
      ],
      "metadata": {
        "colab": {
          "base_uri": "https://localhost:8080/"
        },
        "id": "gTmjmCr0sMx2",
        "outputId": "3296a8bb-f0fe-4567-93a2-3f62c2efa780"
      },
      "execution_count": 3,
      "outputs": [
        {
          "output_type": "stream",
          "name": "stdout",
          "text": [
            "1963-12-18\n"
          ]
        }
      ]
    },
    {
      "cell_type": "code",
      "source": [
        "test = soup.find('div', {\"class\": \"plainlist\"})\n",
        "test"
      ],
      "metadata": {
        "colab": {
          "base_uri": "https://localhost:8080/"
        },
        "id": "i-5OPhxxbYt2",
        "outputId": "3b6e414f-a2f9-4ca8-dae0-36ca8e40a842"
      },
      "execution_count": 4,
      "outputs": [
        {
          "output_type": "execute_result",
          "data": {
            "text/plain": [
              "<div class=\"plainlist\"><ul><li><div style=\"display:inline;white-space:nowrap;\"><div style=\"display:inline-block;line-height:normal;margin-top:1px;white-space:normal;\"><a href=\"/wiki/Jennifer_Aniston\" title=\"Jennifer Aniston\">Jennifer Aniston</a></div>\n",
              "<div style=\"line-height:0;margin-bottom:-2px;\">​</div> <div style=\"display:inline-block;margin-bottom:1px;\">​</div>(<abbr title=\"married\">m.</abbr> 2000; <abbr title=\"divorced\">div.</abbr> 2005)<wbr/>​</div></li><li><div style=\"display:inline;white-space:nowrap;\"><div style=\"display:inline-block;line-height:normal;margin-top:1px;white-space:normal;\"><a href=\"/wiki/Angelina_Jolie\" title=\"Angelina Jolie\">Angelina Jolie</a></div>\n",
              "<div style=\"line-height:0;margin-bottom:-2px;\">​</div> <div style=\"display:inline-block;margin-bottom:1px;\">​</div>(<abbr title=\"married\">m.</abbr> 2014; <abbr title=\"divorced\">div.</abbr> 2019)<wbr/>​</div><sup class=\"reference\" id=\"cite_ref-Guardian20210723_2-0\"><a href=\"#cite_note-Guardian20210723-2\">[2]</a></sup></li></ul></div>"
            ]
          },
          "metadata": {},
          "execution_count": 4
        }
      ]
    },
    {
      "cell_type": "code",
      "source": [
        "if test is not None:\n",
        "  ul = test.find_next('ul')\n",
        "  for li in ul.findAll('li'):\n",
        "    if(li is not None):\n",
        "      print(li.text)\n",
        "      print(li.a.get('href'))"
      ],
      "metadata": {
        "colab": {
          "base_uri": "https://localhost:8080/"
        },
        "id": "fGKgX2GsYCtR",
        "outputId": "2df5f864-b2d3-40f7-8e2c-277b8ed122b5"
      },
      "execution_count": 5,
      "outputs": [
        {
          "output_type": "stream",
          "name": "stdout",
          "text": [
            "Jennifer Aniston\n",
            "​ ​(m. 2000; div. 2005)​\n",
            "/wiki/Jennifer_Aniston\n",
            "Angelina Jolie\n",
            "​ ​(m. 2014; div. 2019)​[2]\n",
            "/wiki/Angelina_Jolie\n"
          ]
        }
      ]
    },
    {
      "cell_type": "markdown",
      "source": [
        "https://api-ninjas.com/api/celebrity"
      ],
      "metadata": {
        "id": "u45uk_AUvV_F"
      }
    },
    {
      "cell_type": "code",
      "source": [
        "import requests\n",
        "name = 'Brad Pitt'\n",
        "api_url = 'https://api.api-ninjas.com/v1/celebrity?name={}'.format(name)\n",
        "response = requests.get(api_url, headers={'X-Api-Key': 'WNPLPqn3pcJVnsH0JTjLvw==8nvIQeJ3wjznDDYc'})\n",
        "\n",
        "if response.status_code == requests.codes.ok:\n",
        "    print(response.text)\n",
        "else:\n",
        "    print(\"Error:\", response.status_code, response.text)"
      ],
      "metadata": {
        "colab": {
          "base_uri": "https://localhost:8080/"
        },
        "id": "v0QEBTjUsM1P",
        "outputId": "fa93d724-2eaa-4393-b4ab-5ba7b1fb9cdb"
      },
      "execution_count": 6,
      "outputs": [
        {
          "output_type": "stream",
          "name": "stdout",
          "text": [
            "Error: 400 {\"error\": \"Invalid API Key.\"}\n"
          ]
        }
      ]
    },
    {
      "cell_type": "code",
      "source": [],
      "metadata": {
        "id": "7K9OWDwguc2n"
      },
      "execution_count": 6,
      "outputs": []
    }
  ]
}