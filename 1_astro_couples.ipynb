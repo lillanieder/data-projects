{
  "nbformat": 4,
  "nbformat_minor": 0,
  "metadata": {
    "colab": {
      "provenance": [],
      "authorship_tag": "ABX9TyOIInOfUz0l7S+JQWqBDyaC",
      "include_colab_link": true
    },
    "kernelspec": {
      "name": "python3",
      "display_name": "Python 3"
    },
    "language_info": {
      "name": "python"
    }
  },
  "cells": [
    {
      "cell_type": "markdown",
      "metadata": {
        "id": "view-in-github",
        "colab_type": "text"
      },
      "source": [
        "<a href=\"https://colab.research.google.com/github/lillanieder/data-projects/blob/main/1_astro_couples.ipynb\" target=\"_parent\"><img src=\"https://colab.research.google.com/assets/colab-badge.svg\" alt=\"Open In Colab\"/></a>"
      ]
    },
    {
      "cell_type": "markdown",
      "source": [
        "https://www.youtube.com/watch?v=IsMvPcQzncU"
      ],
      "metadata": {
        "id": "bBkKwjpvsLB1"
      }
    },
    {
      "cell_type": "code",
      "source": [
        "import requests\n",
        "from bs4 import BeautifulSoup"
      ],
      "metadata": {
        "id": "LJ5KmjT_sMsZ"
      },
      "execution_count": 1,
      "outputs": []
    },
    {
      "cell_type": "code",
      "source": [
        "base_url = \"https://en.wikipedia.org/wiki/\"\n",
        "famous_person = \"Brad Pitt\"\n",
        "famous = famous_person.split()\n",
        "famous_person_url = famous[0] + '_' + famous[1]\n",
        "final_url = base_url + famous_person_url\n",
        "\n",
        "source_code = requests.get(final_url)\n",
        "plain_text = source_code.text\n",
        "\n",
        "soup = BeautifulSoup(plain_text)\n",
        "birthday = soup.find('span', {\"class\":\"bday\"}).string\n",
        "print(birthday)"
      ],
      "metadata": {
        "colab": {
          "base_uri": "https://localhost:8080/"
        },
        "id": "gTmjmCr0sMx2",
        "outputId": "feb8b404-3685-40c4-bddf-251a27e65fe5"
      },
      "execution_count": 2,
      "outputs": [
        {
          "output_type": "stream",
          "name": "stdout",
          "text": [
            "1963-12-18\n"
          ]
        }
      ]
    },
    {
      "cell_type": "markdown",
      "source": [
        "https://api-ninjas.com/api/celebrity"
      ],
      "metadata": {
        "id": "u45uk_AUvV_F"
      }
    },
    {
      "cell_type": "code",
      "source": [
        "import requests\n",
        "name = 'Brad Pitt'\n",
        "api_url = 'https://api.api-ninjas.com/v1/celebrity?name={}'.format(name)\n",
        "response = requests.get(api_url, headers={'X-Api-Key': 'WNPLPqn3pcJVnsH0JTjLvw==8nvIQeJ3wjznDDYc'})\n",
        "\n",
        "if response.status_code == requests.codes.ok:\n",
        "    print(response.text)\n",
        "else:\n",
        "    print(\"Error:\", response.status_code, response.text)"
      ],
      "metadata": {
        "colab": {
          "base_uri": "https://localhost:8080/"
        },
        "id": "v0QEBTjUsM1P",
        "outputId": "f6184b70-338f-4d07-fabd-dc34ff5d1788"
      },
      "execution_count": 3,
      "outputs": [
        {
          "output_type": "stream",
          "name": "stdout",
          "text": [
            "[{\"name\": \"brad pitt\", \"net_worth\": 300000000, \"gender\": \"male\", \"nationality\": \"us\", \"occupation\": [\"actor\", \"film_producer\", \"voice_actor\", \"television_producer\"], \"height\": 1.8, \"birthday\": \"1963-12-18\", \"age\": 59, \"is_alive\": true}]\n"
          ]
        }
      ]
    },
    {
      "cell_type": "code",
      "source": [],
      "metadata": {
        "id": "7K9OWDwguc2n"
      },
      "execution_count": 3,
      "outputs": []
    }
  ]
}