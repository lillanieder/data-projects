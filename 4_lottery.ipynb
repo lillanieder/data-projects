{
  "nbformat": 4,
  "nbformat_minor": 0,
  "metadata": {
    "colab": {
      "provenance": [],
      "authorship_tag": "ABX9TyODf9mVzX07PDW/FAVgA5sz",
      "include_colab_link": true
    },
    "kernelspec": {
      "name": "python3",
      "display_name": "Python 3"
    },
    "language_info": {
      "name": "python"
    }
  },
  "cells": [
    {
      "cell_type": "markdown",
      "metadata": {
        "id": "view-in-github",
        "colab_type": "text"
      },
      "source": [
        "<a href=\"https://colab.research.google.com/github/lillanieder/data-projects/blob/main/4_lottery.ipynb\" target=\"_parent\"><img src=\"https://colab.research.google.com/assets/colab-badge.svg\" alt=\"Open In Colab\"/></a>"
      ]
    },
    {
      "cell_type": "code",
      "execution_count": 1,
      "metadata": {
        "id": "QjsB5NdB0zCj"
      },
      "outputs": [],
      "source": [
        "import pandas as pd"
      ]
    },
    {
      "cell_type": "code",
      "source": [
        "#data = pd.read_csv('https://raw.githubusercontent.com/lillanieder/data-projects/main/data/hatos.csv', header = None, sep = ';', names = list(range(20)))\n",
        "data = pd.read_csv('https://raw.githubusercontent.com/lillanieder/data-projects/main/data/otos.csv', header = None, sep = ';')\n",
        "data.head()"
      ],
      "metadata": {
        "colab": {
          "base_uri": "https://localhost:8080/",
          "height": 206
        },
        "id": "mEdzT6g81m-n",
        "outputId": "e894e516-a202-4d9c-d246-4b6164084964"
      },
      "execution_count": 2,
      "outputs": [
        {
          "output_type": "execute_result",
          "data": {
            "text/plain": [
              "     0   1            2   3     4   5             6     7          8      9   \\\n",
              "0  2023   6  2023.02.11.   0  0 Ft  22  2 285 905 Ft  1904  27 560 Ft  55687   \n",
              "1  2023   5  2023.02.04.   0  0 Ft  42  1 142 265 Ft  2855  17 535 Ft  77006   \n",
              "2  2023   4  2023.01.28.   0  0 Ft  19  2 411 060 Ft  1815  26 385 Ft  53591   \n",
              "3  2023   3  2023.01.21.   0  0 Ft  20  2 337 910 Ft  2315  21 115 Ft  62955   \n",
              "4  2023   2  2023.01.14.   0  0 Ft  33  1 572 215 Ft  2381  22 830 Ft  70141   \n",
              "\n",
              "         10  11  12  13  14  15  \n",
              "0  3 180 Ft  10  32  40  70  82  \n",
              "1  2 195 Ft   8  15  20  32  34  \n",
              "2  3 110 Ft  20  51  54  59  86  \n",
              "3  2 635 Ft  11  36  39  68  84  \n",
              "4  2 710 Ft  16  25  32  72  85  "
            ],
            "text/html": [
              "\n",
              "  <div id=\"df-97bcfc5a-7b38-4197-8dfe-0f4e9e777cb7\">\n",
              "    <div class=\"colab-df-container\">\n",
              "      <div>\n",
              "<style scoped>\n",
              "    .dataframe tbody tr th:only-of-type {\n",
              "        vertical-align: middle;\n",
              "    }\n",
              "\n",
              "    .dataframe tbody tr th {\n",
              "        vertical-align: top;\n",
              "    }\n",
              "\n",
              "    .dataframe thead th {\n",
              "        text-align: right;\n",
              "    }\n",
              "</style>\n",
              "<table border=\"1\" class=\"dataframe\">\n",
              "  <thead>\n",
              "    <tr style=\"text-align: right;\">\n",
              "      <th></th>\n",
              "      <th>0</th>\n",
              "      <th>1</th>\n",
              "      <th>2</th>\n",
              "      <th>3</th>\n",
              "      <th>4</th>\n",
              "      <th>5</th>\n",
              "      <th>6</th>\n",
              "      <th>7</th>\n",
              "      <th>8</th>\n",
              "      <th>9</th>\n",
              "      <th>10</th>\n",
              "      <th>11</th>\n",
              "      <th>12</th>\n",
              "      <th>13</th>\n",
              "      <th>14</th>\n",
              "      <th>15</th>\n",
              "    </tr>\n",
              "  </thead>\n",
              "  <tbody>\n",
              "    <tr>\n",
              "      <th>0</th>\n",
              "      <td>2023</td>\n",
              "      <td>6</td>\n",
              "      <td>2023.02.11.</td>\n",
              "      <td>0</td>\n",
              "      <td>0 Ft</td>\n",
              "      <td>22</td>\n",
              "      <td>2 285 905 Ft</td>\n",
              "      <td>1904</td>\n",
              "      <td>27 560 Ft</td>\n",
              "      <td>55687</td>\n",
              "      <td>3 180 Ft</td>\n",
              "      <td>10</td>\n",
              "      <td>32</td>\n",
              "      <td>40</td>\n",
              "      <td>70</td>\n",
              "      <td>82</td>\n",
              "    </tr>\n",
              "    <tr>\n",
              "      <th>1</th>\n",
              "      <td>2023</td>\n",
              "      <td>5</td>\n",
              "      <td>2023.02.04.</td>\n",
              "      <td>0</td>\n",
              "      <td>0 Ft</td>\n",
              "      <td>42</td>\n",
              "      <td>1 142 265 Ft</td>\n",
              "      <td>2855</td>\n",
              "      <td>17 535 Ft</td>\n",
              "      <td>77006</td>\n",
              "      <td>2 195 Ft</td>\n",
              "      <td>8</td>\n",
              "      <td>15</td>\n",
              "      <td>20</td>\n",
              "      <td>32</td>\n",
              "      <td>34</td>\n",
              "    </tr>\n",
              "    <tr>\n",
              "      <th>2</th>\n",
              "      <td>2023</td>\n",
              "      <td>4</td>\n",
              "      <td>2023.01.28.</td>\n",
              "      <td>0</td>\n",
              "      <td>0 Ft</td>\n",
              "      <td>19</td>\n",
              "      <td>2 411 060 Ft</td>\n",
              "      <td>1815</td>\n",
              "      <td>26 385 Ft</td>\n",
              "      <td>53591</td>\n",
              "      <td>3 110 Ft</td>\n",
              "      <td>20</td>\n",
              "      <td>51</td>\n",
              "      <td>54</td>\n",
              "      <td>59</td>\n",
              "      <td>86</td>\n",
              "    </tr>\n",
              "    <tr>\n",
              "      <th>3</th>\n",
              "      <td>2023</td>\n",
              "      <td>3</td>\n",
              "      <td>2023.01.21.</td>\n",
              "      <td>0</td>\n",
              "      <td>0 Ft</td>\n",
              "      <td>20</td>\n",
              "      <td>2 337 910 Ft</td>\n",
              "      <td>2315</td>\n",
              "      <td>21 115 Ft</td>\n",
              "      <td>62955</td>\n",
              "      <td>2 635 Ft</td>\n",
              "      <td>11</td>\n",
              "      <td>36</td>\n",
              "      <td>39</td>\n",
              "      <td>68</td>\n",
              "      <td>84</td>\n",
              "    </tr>\n",
              "    <tr>\n",
              "      <th>4</th>\n",
              "      <td>2023</td>\n",
              "      <td>2</td>\n",
              "      <td>2023.01.14.</td>\n",
              "      <td>0</td>\n",
              "      <td>0 Ft</td>\n",
              "      <td>33</td>\n",
              "      <td>1 572 215 Ft</td>\n",
              "      <td>2381</td>\n",
              "      <td>22 830 Ft</td>\n",
              "      <td>70141</td>\n",
              "      <td>2 710 Ft</td>\n",
              "      <td>16</td>\n",
              "      <td>25</td>\n",
              "      <td>32</td>\n",
              "      <td>72</td>\n",
              "      <td>85</td>\n",
              "    </tr>\n",
              "  </tbody>\n",
              "</table>\n",
              "</div>\n",
              "      <button class=\"colab-df-convert\" onclick=\"convertToInteractive('df-97bcfc5a-7b38-4197-8dfe-0f4e9e777cb7')\"\n",
              "              title=\"Convert this dataframe to an interactive table.\"\n",
              "              style=\"display:none;\">\n",
              "        \n",
              "  <svg xmlns=\"http://www.w3.org/2000/svg\" height=\"24px\"viewBox=\"0 0 24 24\"\n",
              "       width=\"24px\">\n",
              "    <path d=\"M0 0h24v24H0V0z\" fill=\"none\"/>\n",
              "    <path d=\"M18.56 5.44l.94 2.06.94-2.06 2.06-.94-2.06-.94-.94-2.06-.94 2.06-2.06.94zm-11 1L8.5 8.5l.94-2.06 2.06-.94-2.06-.94L8.5 2.5l-.94 2.06-2.06.94zm10 10l.94 2.06.94-2.06 2.06-.94-2.06-.94-.94-2.06-.94 2.06-2.06.94z\"/><path d=\"M17.41 7.96l-1.37-1.37c-.4-.4-.92-.59-1.43-.59-.52 0-1.04.2-1.43.59L10.3 9.45l-7.72 7.72c-.78.78-.78 2.05 0 2.83L4 21.41c.39.39.9.59 1.41.59.51 0 1.02-.2 1.41-.59l7.78-7.78 2.81-2.81c.8-.78.8-2.07 0-2.86zM5.41 20L4 18.59l7.72-7.72 1.47 1.35L5.41 20z\"/>\n",
              "  </svg>\n",
              "      </button>\n",
              "      \n",
              "  <style>\n",
              "    .colab-df-container {\n",
              "      display:flex;\n",
              "      flex-wrap:wrap;\n",
              "      gap: 12px;\n",
              "    }\n",
              "\n",
              "    .colab-df-convert {\n",
              "      background-color: #E8F0FE;\n",
              "      border: none;\n",
              "      border-radius: 50%;\n",
              "      cursor: pointer;\n",
              "      display: none;\n",
              "      fill: #1967D2;\n",
              "      height: 32px;\n",
              "      padding: 0 0 0 0;\n",
              "      width: 32px;\n",
              "    }\n",
              "\n",
              "    .colab-df-convert:hover {\n",
              "      background-color: #E2EBFA;\n",
              "      box-shadow: 0px 1px 2px rgba(60, 64, 67, 0.3), 0px 1px 3px 1px rgba(60, 64, 67, 0.15);\n",
              "      fill: #174EA6;\n",
              "    }\n",
              "\n",
              "    [theme=dark] .colab-df-convert {\n",
              "      background-color: #3B4455;\n",
              "      fill: #D2E3FC;\n",
              "    }\n",
              "\n",
              "    [theme=dark] .colab-df-convert:hover {\n",
              "      background-color: #434B5C;\n",
              "      box-shadow: 0px 1px 3px 1px rgba(0, 0, 0, 0.15);\n",
              "      filter: drop-shadow(0px 1px 2px rgba(0, 0, 0, 0.3));\n",
              "      fill: #FFFFFF;\n",
              "    }\n",
              "  </style>\n",
              "\n",
              "      <script>\n",
              "        const buttonEl =\n",
              "          document.querySelector('#df-97bcfc5a-7b38-4197-8dfe-0f4e9e777cb7 button.colab-df-convert');\n",
              "        buttonEl.style.display =\n",
              "          google.colab.kernel.accessAllowed ? 'block' : 'none';\n",
              "\n",
              "        async function convertToInteractive(key) {\n",
              "          const element = document.querySelector('#df-97bcfc5a-7b38-4197-8dfe-0f4e9e777cb7');\n",
              "          const dataTable =\n",
              "            await google.colab.kernel.invokeFunction('convertToInteractive',\n",
              "                                                     [key], {});\n",
              "          if (!dataTable) return;\n",
              "\n",
              "          const docLinkHtml = 'Like what you see? Visit the ' +\n",
              "            '<a target=\"_blank\" href=https://colab.research.google.com/notebooks/data_table.ipynb>data table notebook</a>'\n",
              "            + ' to learn more about interactive tables.';\n",
              "          element.innerHTML = '';\n",
              "          dataTable['output_type'] = 'display_data';\n",
              "          await google.colab.output.renderOutput(dataTable, element);\n",
              "          const docLink = document.createElement('div');\n",
              "          docLink.innerHTML = docLinkHtml;\n",
              "          element.appendChild(docLink);\n",
              "        }\n",
              "      </script>\n",
              "    </div>\n",
              "  </div>\n",
              "  "
            ]
          },
          "metadata": {},
          "execution_count": 2
        }
      ]
    },
    {
      "cell_type": "code",
      "source": [
        "#l = data.loc[:,13:18].values.tolist()\n",
        "l = data.loc[:,11:15].values.tolist()\n",
        "flat_list = [item for sublist in l for item in sublist]"
      ],
      "metadata": {
        "id": "I-gSBJRZ1rZp"
      },
      "execution_count": 3,
      "outputs": []
    },
    {
      "cell_type": "code",
      "source": [
        "from collections import Counter\n",
        "counter = Counter(flat_list)\n",
        "counter.most_common(15)"
      ],
      "metadata": {
        "id": "sI6cQl3e3bEu",
        "colab": {
          "base_uri": "https://localhost:8080/"
        },
        "outputId": "3a5df5c9-cd78-407e-e4f2-1f2b34110d66"
      },
      "execution_count": 4,
      "outputs": [
        {
          "output_type": "execute_result",
          "data": {
            "text/plain": [
              "[(3, 229),\n",
              " (15, 219),\n",
              " (75, 219),\n",
              " (1, 217),\n",
              " (42, 214),\n",
              " (29, 214),\n",
              " (86, 211),\n",
              " (66, 210),\n",
              " (12, 209),\n",
              " (77, 209),\n",
              " (13, 209),\n",
              " (10, 206),\n",
              " (55, 206),\n",
              " (56, 206),\n",
              " (4, 205)]"
            ]
          },
          "metadata": {},
          "execution_count": 4
        }
      ]
    },
    {
      "cell_type": "code",
      "source": [
        "pd.DataFrame(sorted(counter.items())).set_index(0)[1].plot()"
      ],
      "metadata": {
        "id": "9bK4NWfM4Pt8"
      },
      "execution_count": null,
      "outputs": []
    },
    {
      "cell_type": "markdown",
      "source": [
        "# Modeling\n",
        "\n",
        "https://medium.com/@polanitzer/how-to-guess-accurately-3-lottery-numbers-out-of-6-using-lstm-model-e148d1c632d6"
      ],
      "metadata": {
        "id": "GEVA-RtoFVnR"
      }
    },
    {
      "cell_type": "code",
      "source": [
        "import numpy as np\n",
        "from sklearn.preprocessing import StandardScaler\n",
        "from keras.models import Sequential\n",
        "from keras.layers import LSTM, Dense, Bidirectional, Dropout\n",
        "\n",
        "from tensorflow import keras\n",
        "from tensorflow.keras.optimizers import Adam"
      ],
      "metadata": {
        "id": "ykbbE2gv_8Ni"
      },
      "execution_count": null,
      "outputs": []
    },
    {
      "cell_type": "code",
      "source": [
        "df = data.loc[:,11:15]\n",
        "df.head()"
      ],
      "metadata": {
        "id": "KzM95PmGFXe8"
      },
      "execution_count": null,
      "outputs": []
    },
    {
      "cell_type": "code",
      "source": [
        "scaler = StandardScaler().fit(df.values)\n",
        "transformed_dataset = scaler.transform(df.values)\n",
        "transformed_df = pd.DataFrame(data=transformed_dataset, index=df.index)\n",
        "transformed_df.head()"
      ],
      "metadata": {
        "id": "XZd6S8omFkro"
      },
      "execution_count": null,
      "outputs": []
    },
    {
      "cell_type": "code",
      "source": [
        "# All our games\n",
        "number_of_rows = df.values.shape[0]\n",
        "print(number_of_rows)\n",
        "\n",
        "# Amount of games we need to take into consideration for prediction\n",
        "window_length = 7\n",
        "\n",
        "# Balls counts\n",
        "number_of_features = df.values.shape[1]\n",
        "print(number_of_features)"
      ],
      "metadata": {
        "id": "hSEIo-9DFttt"
      },
      "execution_count": null,
      "outputs": []
    },
    {
      "cell_type": "code",
      "source": [
        "X = np.empty([number_of_rows - window_length, window_length, number_of_features],\n",
        "             dtype=float)\n",
        "y = np.empty([number_of_rows - window_length, number_of_features],\n",
        "             dtype=float)\n",
        "\n",
        "for i in range(0, number_of_rows-window_length):\n",
        "    X[i] = transformed_df.iloc[i : i+window_length, 0 : number_of_features]\n",
        "    y[i] = transformed_df.iloc[i+window_length : i+window_length+1, 0 : number_of_features]"
      ],
      "metadata": {
        "id": "KC8ZC0_fF4Sx"
      },
      "execution_count": null,
      "outputs": []
    },
    {
      "cell_type": "code",
      "source": [
        "print(X.shape)\n",
        "print(y.shape)"
      ],
      "metadata": {
        "id": "J0bYBjxOGfVU"
      },
      "execution_count": null,
      "outputs": []
    },
    {
      "cell_type": "code",
      "source": [
        "# first scaled sample (which made of 7 consecutive lottery games)\n",
        "X[0]"
      ],
      "metadata": {
        "id": "hj4xnW93GlAf"
      },
      "execution_count": null,
      "outputs": []
    },
    {
      "cell_type": "code",
      "source": [
        "# first scaled label\n",
        "y[0]"
      ],
      "metadata": {
        "id": "UUHz3hD5G7YZ"
      },
      "execution_count": null,
      "outputs": []
    },
    {
      "cell_type": "code",
      "source": [
        "# initialise RNN\n",
        "model = Sequential()\n",
        "\n",
        "# add the input layer and the LSTM layer\n",
        "model.add(Bidirectional(LSTM(240,\n",
        "                             input_shape = (window_length, number_of_features),\n",
        "                             return_sequences = True)))\n",
        "\n",
        "# add a first Dropout layer in order to reduce overfitting\n",
        "model.add(Dropout(0.2))\n",
        "\n",
        "# add a second LSTM layer\n",
        "model.add(Bidirectional(LSTM(240,\n",
        "                             input_shape = (window_length, number_of_features),\n",
        "                             return_sequences = True)))\n",
        "\n",
        "# add a second Dropout layer\n",
        "model.add(Dropout(0.2))\n",
        "\n",
        "# add a third LSTM layer\n",
        "model.add(Bidirectional(LSTM(240,\n",
        "                             input_shape = (window_length, number_of_features),\n",
        "                             return_sequences = True)))\n",
        "\n",
        "# add a fourth LSTM layer\n",
        "model.add(Bidirectional(LSTM(240,\n",
        "                             input_shape = (window_length, number_of_features),\n",
        "                             return_sequences = False)))\n",
        "\n",
        "# add a dense layer\n",
        "model.add(Dense(59))\n",
        "\n",
        "# add the last output layer\n",
        "model.add(Dense(number_of_features))\n",
        "# compile the RNN\n",
        "model.compile(optimizer=Adam(learning_rate=0.0001), loss ='mse', metrics=['accuracy'])"
      ],
      "metadata": {
        "id": "ywvSIVIrHBx6"
      },
      "execution_count": null,
      "outputs": []
    },
    {
      "cell_type": "code",
      "source": [
        "# train our LSTM model\n",
        "model.fit(x=X, y=y, batch_size=100, epochs=300, verbose=2)"
      ],
      "metadata": {
        "id": "PJans0c-JBBT"
      },
      "execution_count": null,
      "outputs": []
    },
    {
      "cell_type": "code",
      "source": [
        "to_predict = df.tail(8)\n",
        "to_predict.drop([to_predict.index[-1]],axis=0, inplace=True)\n",
        "to_predict = np.array(to_predict)\n",
        "\n",
        "scaled_to_predict = scaler.transform(to_predict)\n",
        "\n",
        "prediction = df.tail(1)"
      ],
      "metadata": {
        "id": "2PJu59ClTk2A"
      },
      "execution_count": null,
      "outputs": []
    },
    {
      "cell_type": "code",
      "source": [
        "y_pred = model.predict(np.array([scaled_to_predict]))\n",
        "print('The predicted numbers in the last lottery game are:', scaler.inverse_transform(y_pred).astype(int)[0])"
      ],
      "metadata": {
        "id": "ex1JExZJe-gM"
      },
      "execution_count": null,
      "outputs": []
    },
    {
      "cell_type": "code",
      "source": [
        "prediction = np.array(prediction)\n",
        "print('The actual numbers in the last lottery game were:', prediction[0])"
      ],
      "metadata": {
        "id": "stLiLsb9e-lD"
      },
      "execution_count": null,
      "outputs": []
    }
  ]
}