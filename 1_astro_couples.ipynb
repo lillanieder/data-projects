{
  "nbformat": 4,
  "nbformat_minor": 0,
  "metadata": {
    "colab": {
      "provenance": [],
      "toc_visible": true,
      "authorship_tag": "ABX9TyMhwwH7hlvQ4fnfLd3ccjAp",
      "include_colab_link": true
    },
    "kernelspec": {
      "name": "python3",
      "display_name": "Python 3"
    },
    "language_info": {
      "name": "python"
    }
  },
  "cells": [
    {
      "cell_type": "markdown",
      "metadata": {
        "id": "view-in-github",
        "colab_type": "text"
      },
      "source": [
        "<a href=\"https://colab.research.google.com/github/lillanieder/data-projects/blob/main/1_astro_couples.ipynb\" target=\"_parent\"><img src=\"https://colab.research.google.com/assets/colab-badge.svg\" alt=\"Open In Colab\"/></a>"
      ]
    },
    {
      "cell_type": "markdown",
      "source": [
        "# Astro couples\n",
        "\n",
        "Showing that based on zodiac signs you can not find a partner ..."
      ],
      "metadata": {
        "id": "PNPvyGTiVQnV"
      }
    },
    {
      "cell_type": "markdown",
      "source": [
        "## Environment setup"
      ],
      "metadata": {
        "id": "8FVj6lH4Ve2w"
      }
    },
    {
      "cell_type": "code",
      "source": [
        "import requests\n",
        "from bs4 import BeautifulSoup"
      ],
      "metadata": {
        "id": "LJ5KmjT_sMsZ"
      },
      "execution_count": 1,
      "outputs": []
    },
    {
      "cell_type": "markdown",
      "source": [
        "## Collecting data with example\n",
        "\n",
        "For data collection I am scraping Wikipedia for the birthday and marital information of an actor."
      ],
      "metadata": {
        "id": "8gbXuFtEWAPx"
      }
    },
    {
      "cell_type": "code",
      "source": [
        "famous_person = \"Brad Pitt\""
      ],
      "metadata": {
        "id": "hdS0zO7HWRQv"
      },
      "execution_count": 2,
      "outputs": []
    },
    {
      "cell_type": "code",
      "source": [
        "base_url = \"https://en.wikipedia.org/wiki/\"\n",
        "famous = famous_person.split()\n",
        "famous_person_url = famous[0] + '_' + famous[1]\n",
        "final_url = base_url + famous_person_url\n",
        "\n",
        "source_code = requests.get(final_url)\n",
        "plain_text = source_code.text\n",
        "\n",
        "soup = BeautifulSoup(plain_text)"
      ],
      "metadata": {
        "id": "qv4KjyW-XDtT"
      },
      "execution_count": 3,
      "outputs": []
    },
    {
      "cell_type": "markdown",
      "source": [
        "### Birthday information"
      ],
      "metadata": {
        "id": "Dr-Tvz4TWX-1"
      }
    },
    {
      "cell_type": "code",
      "source": [
        "birthday = soup.find('span', {\"class\" : \"bday\"}).string\n",
        "print(birthday)"
      ],
      "metadata": {
        "colab": {
          "base_uri": "https://localhost:8080/"
        },
        "id": "gTmjmCr0sMx2",
        "outputId": "63c84050-8527-4d5b-f4f5-0a7b34899179"
      },
      "execution_count": 4,
      "outputs": [
        {
          "output_type": "stream",
          "name": "stdout",
          "text": [
            "1963-12-18\n"
          ]
        }
      ]
    },
    {
      "cell_type": "markdown",
      "source": [
        "### Marital information"
      ],
      "metadata": {
        "id": "yeiBK47EWd0N"
      }
    },
    {
      "cell_type": "code",
      "source": [
        "test = soup.find('div', {\"class\" : \"plainlist\"})\n",
        "test"
      ],
      "metadata": {
        "colab": {
          "base_uri": "https://localhost:8080/"
        },
        "id": "i-5OPhxxbYt2",
        "outputId": "68a33a88-c46b-41fc-90c7-4a4c746c0dc9"
      },
      "execution_count": 5,
      "outputs": [
        {
          "output_type": "execute_result",
          "data": {
            "text/plain": [
              "<div class=\"plainlist\"><ul><li><div style=\"display:inline;white-space:nowrap;\"><div style=\"display:inline-block;line-height:normal;margin-top:1px;white-space:normal;\"><a href=\"/wiki/Jennifer_Aniston\" title=\"Jennifer Aniston\">Jennifer Aniston</a></div>\n",
              "<div style=\"line-height:0;margin-bottom:-2px;\">​</div> <div style=\"display:inline-block;margin-bottom:1px;\">​</div>(<abbr title=\"married\">m.</abbr> 2000; <abbr title=\"divorced\">div.</abbr> 2005)<wbr/>​</div></li><li><div style=\"display:inline;white-space:nowrap;\"><div style=\"display:inline-block;line-height:normal;margin-top:1px;white-space:normal;\"><a href=\"/wiki/Angelina_Jolie\" title=\"Angelina Jolie\">Angelina Jolie</a></div>\n",
              "<div style=\"line-height:0;margin-bottom:-2px;\">​</div> <div style=\"display:inline-block;margin-bottom:1px;\">​</div>(<abbr title=\"married\">m.</abbr> 2014; <abbr title=\"divorced\">div.</abbr> 2019)<wbr/>​</div><sup class=\"reference\" id=\"cite_ref-Guardian20210723_2-0\"><a href=\"#cite_note-Guardian20210723-2\">[2]</a></sup></li></ul></div>"
            ]
          },
          "metadata": {},
          "execution_count": 5
        }
      ]
    },
    {
      "cell_type": "code",
      "source": [
        "if test is not None:\n",
        "  ul = test.find_next('ul')\n",
        "  for li in ul.findAll('li'):\n",
        "    if(li is not None):\n",
        "      #print(li.text)\n",
        "\n",
        "      print(li.a.get('href'))\n",
        "      print(li.a.get('title'))\n",
        "      for abbr in li.findAll('abbr'):\n",
        "        if(abbr is not None):\n",
        "          print(abbr.get('title'))"
      ],
      "metadata": {
        "colab": {
          "base_uri": "https://localhost:8080/"
        },
        "id": "fGKgX2GsYCtR",
        "outputId": "35b3aa9c-2fc9-4f51-9f82-6ea6fabf4cb0"
      },
      "execution_count": 6,
      "outputs": [
        {
          "output_type": "stream",
          "name": "stdout",
          "text": [
            "/wiki/Jennifer_Aniston\n",
            "Jennifer Aniston\n",
            "married\n",
            "divorced\n",
            "/wiki/Angelina_Jolie\n",
            "Angelina Jolie\n",
            "married\n",
            "divorced\n"
          ]
        }
      ]
    },
    {
      "cell_type": "markdown",
      "source": [
        "## Automated data collection"
      ],
      "metadata": {
        "id": "UNjiMaDNWnmv"
      }
    },
    {
      "cell_type": "code",
      "source": [],
      "metadata": {
        "id": "xEbj2o-eWpcL"
      },
      "execution_count": 6,
      "outputs": []
    },
    {
      "cell_type": "code",
      "source": [],
      "metadata": {
        "id": "WbwM3eYTWoT0"
      },
      "execution_count": 6,
      "outputs": []
    },
    {
      "cell_type": "markdown",
      "source": [
        "Source:\n",
        "\n",
        "* Wikipedia webscraping: https://www.youtube.com/watch?v=IsMvPcQzncU\n",
        "* Getting celebrity information from api-ninjas: https://api-ninjas.com/api/celebrity\n"
      ],
      "metadata": {
        "id": "bBkKwjpvsLB1"
      }
    }
  ]
}